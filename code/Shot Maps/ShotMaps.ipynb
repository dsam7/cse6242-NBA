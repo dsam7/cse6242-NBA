{
 "cells": [
  {
   "cell_type": "markdown",
   "metadata": {},
   "source": [
    "# Using the NBA API to Generate Shot Maps for the Phoenix Suns to Compare In-Bubble and Out-of-Bubble Performance"
   ]
  },
  {
   "cell_type": "markdown",
   "metadata": {},
   "source": [
    "First, we get the relevant data from NBA api. In the following request, team_id=1610612756 represents the Suns, player_id=0 signifies get data for all players on the team."
   ]
  },
  {
   "cell_type": "code",
   "execution_count": 3,
   "metadata": {},
   "outputs": [],
   "source": [
    "import json\n",
    "from nba_api.stats.endpoints import shotchartdetail\n",
    "\n",
    "response = shotchartdetail.ShotChartDetail(\n",
    "    team_id=1610612756, #phoenix suns\n",
    "    player_id=0, #all players\n",
    "    context_measure_simple='FGA',\n",
    "    season_nullable='2019-20',\n",
    "    season_type_all_star='Regular Season'\n",
    ")\n",
    "\n",
    "content = json.loads(response.get_json())"
   ]
  },
  {
   "cell_type": "code",
   "execution_count": 4,
   "metadata": {},
   "outputs": [],
   "source": [
    "import pandas as pd\n",
    "\n",
    "# transform contents into dataframe\n",
    "results = content['resultSets'][0]\n",
    "headers = results['headers']\n",
    "rows = results['rowSet']\n",
    "df = pd.DataFrame(rows)\n",
    "df.columns = headers\n",
    "\n",
    "# write to csv file\n",
    "df.to_csv('suns.csv', index=False)"
   ]
  },
  {
   "cell_type": "markdown",
   "metadata": {},
   "source": [
    "All games in the 2019-2020 NBA season played before 07/31/2020 were played in normal conditions while any game played on or after 07/31/2020 were played in the NBA Bubble. The Suns played 65 games this season in a non-bubble enviornment while 8 were played in the bubble."
   ]
  },
  {
   "cell_type": "code",
   "execution_count": 5,
   "metadata": {},
   "outputs": [],
   "source": [
    "iter_csv = pd.read_csv('suns.csv', iterator=True)\n",
    "df = pd.concat([chunk[chunk['GAME_DATE'] < 20200731] for chunk in iter_csv])\n",
    "df.to_csv('suns_before_bubble.csv', index=False)"
   ]
  },
  {
   "cell_type": "code",
   "execution_count": 6,
   "metadata": {},
   "outputs": [],
   "source": [
    "iter_csv = pd.read_csv('suns.csv', iterator=True)\n",
    "df2 = pd.concat([chunk[chunk['GAME_DATE'] >= 20200731] for chunk in iter_csv])\n",
    "df2.to_csv(\"suns_in_bubble.csv\", index=False)"
   ]
  },
  {
   "cell_type": "markdown",
   "metadata": {},
   "source": [
    "## Comparing the Phoenix Suns Before and During the NBA Bubble\n",
    "\n",
    "After uploading the data to Tableau, the following visualizations were able to be made with which we compared this team's bubble and non-bubble performances. (Analysis in final report)\n",
    "\n",
    "Suns Non-Bubble Accuracy vs Suns in Bubble Accuracy:\n",
    "\n",
    "(Here dark red to dark blue goes from increasing shooting accuracy from different zones on the court from 0% to 100% centered around 33%)\n",
    "\n",
    "Non-Bubble | Bubble\n",
    "- | - \n",
    "![alt](./imgs/suns_accuracy_non_bubble.png) | ![alt](./imgs/suns_accuracy_bubble.png)\n",
    "\n",
    "Suns Non-Bubble All Hits/Misses vs Suns in Bubble All Hits/Misses:\n",
    "\n",
    "(Here red crosses represent missed shots while blue circles represent made shots)\n",
    "\n",
    "Non-Bubble | Bubble\n",
    "- | - \n",
    "![alt](./imgs/suns_hit_miss_non_bubble.png) | ![alt](./imgs/suns_hit_miss_bubble.png)"
   ]
  },
  {
   "cell_type": "markdown",
   "metadata": {},
   "source": [
    "This notebook can be used to collect and format data from the 2019-2020 NBA Season for any team or player or combination thereof. Documentation for the NBA API can provide all team/player IDs required."
   ]
  },
  {
   "cell_type": "code",
   "execution_count": null,
   "metadata": {},
   "outputs": [],
   "source": []
  }
 ],
 "metadata": {
  "kernelspec": {
   "display_name": "Python 3",
   "language": "python",
   "name": "python3"
  },
  "language_info": {
   "codemirror_mode": {
    "name": "ipython",
    "version": 3
   },
   "file_extension": ".py",
   "mimetype": "text/x-python",
   "name": "python",
   "nbconvert_exporter": "python",
   "pygments_lexer": "ipython3",
   "version": "3.7.3"
  }
 },
 "nbformat": 4,
 "nbformat_minor": 2
}
