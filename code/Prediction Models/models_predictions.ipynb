{
 "cells": [
  {
   "cell_type": "code",
   "execution_count": 1,
   "id": "ruled-labor",
   "metadata": {},
   "outputs": [],
   "source": [
    "import numpy as np\n",
    "import pandas as pd\n",
    "import os\n",
    "import gc\n",
    "import copy # for copying nested dictionaries\n",
    "import matplotlib.pyplot as plt\n",
    "import seaborn as sns\n",
    "\n",
    "from sklearn.tree import DecisionTreeClassifier\n",
    "from sklearn.linear_model import LogisticRegression, LinearRegression\n",
    "from sklearn.ensemble import RandomForestClassifier\n",
    "from sklearn import svm"
   ]
  },
  {
   "cell_type": "markdown",
   "id": "eleven-martin",
   "metadata": {},
   "source": [
    "## Read input data into Pandas dataframes "
   ]
  },
  {
   "cell_type": "code",
   "execution_count": 2,
   "id": "chicken-pipeline",
   "metadata": {},
   "outputs": [],
   "source": [
    "datapath = os.getcwd() + '/nbadata'\n",
    "games = pd.read_csv(datapath + '/games.csv')\n",
    "teams = pd.read_csv(datapath + '/teams.csv')\n",
    "team_logos = pd.read_csv(datapath + '/teams_logos.csv')"
   ]
  },
  {
   "cell_type": "code",
   "execution_count": 3,
   "id": "under-collins",
   "metadata": {},
   "outputs": [
    {
     "data": {
      "text/html": [
       "<div>\n",
       "<style scoped>\n",
       "    .dataframe tbody tr th:only-of-type {\n",
       "        vertical-align: middle;\n",
       "    }\n",
       "\n",
       "    .dataframe tbody tr th {\n",
       "        vertical-align: top;\n",
       "    }\n",
       "\n",
       "    .dataframe thead th {\n",
       "        text-align: right;\n",
       "    }\n",
       "</style>\n",
       "<table border=\"1\" class=\"dataframe\">\n",
       "  <thead>\n",
       "    <tr style=\"text-align: right;\">\n",
       "      <th></th>\n",
       "      <th>GAME_DATE_EST</th>\n",
       "      <th>GAME_ID</th>\n",
       "      <th>GAME_STATUS_TEXT</th>\n",
       "      <th>HOME_TEAM_ID</th>\n",
       "      <th>VISITOR_TEAM_ID</th>\n",
       "      <th>SEASON</th>\n",
       "      <th>TEAM_ID_home</th>\n",
       "      <th>PTS_home</th>\n",
       "      <th>FG_PCT_home</th>\n",
       "      <th>FT_PCT_home</th>\n",
       "      <th>...</th>\n",
       "      <th>AST_home</th>\n",
       "      <th>REB_home</th>\n",
       "      <th>TEAM_ID_away</th>\n",
       "      <th>PTS_away</th>\n",
       "      <th>FG_PCT_away</th>\n",
       "      <th>FT_PCT_away</th>\n",
       "      <th>FG3_PCT_away</th>\n",
       "      <th>AST_away</th>\n",
       "      <th>REB_away</th>\n",
       "      <th>HOME_TEAM_WINS</th>\n",
       "    </tr>\n",
       "  </thead>\n",
       "  <tbody>\n",
       "    <tr>\n",
       "      <th>0</th>\n",
       "      <td>3/21/2021</td>\n",
       "      <td>22000645</td>\n",
       "      <td>Final</td>\n",
       "      <td>1610612748</td>\n",
       "      <td>1610612754</td>\n",
       "      <td>2020</td>\n",
       "      <td>1610612748</td>\n",
       "      <td>106.0</td>\n",
       "      <td>0.402</td>\n",
       "      <td>0.826</td>\n",
       "      <td>...</td>\n",
       "      <td>27.0</td>\n",
       "      <td>51.0</td>\n",
       "      <td>1610612754</td>\n",
       "      <td>109.0</td>\n",
       "      <td>0.388</td>\n",
       "      <td>0.900</td>\n",
       "      <td>0.333</td>\n",
       "      <td>27.0</td>\n",
       "      <td>50.0</td>\n",
       "      <td>0</td>\n",
       "    </tr>\n",
       "    <tr>\n",
       "      <th>1</th>\n",
       "      <td>3/21/2021</td>\n",
       "      <td>22000016</td>\n",
       "      <td>Final</td>\n",
       "      <td>1610612745</td>\n",
       "      <td>1610612760</td>\n",
       "      <td>2020</td>\n",
       "      <td>1610612745</td>\n",
       "      <td>112.0</td>\n",
       "      <td>0.494</td>\n",
       "      <td>0.741</td>\n",
       "      <td>...</td>\n",
       "      <td>22.0</td>\n",
       "      <td>38.0</td>\n",
       "      <td>1610612760</td>\n",
       "      <td>114.0</td>\n",
       "      <td>0.462</td>\n",
       "      <td>0.680</td>\n",
       "      <td>0.333</td>\n",
       "      <td>22.0</td>\n",
       "      <td>52.0</td>\n",
       "      <td>0</td>\n",
       "    </tr>\n",
       "    <tr>\n",
       "      <th>2</th>\n",
       "      <td>3/21/2021</td>\n",
       "      <td>22000646</td>\n",
       "      <td>Final</td>\n",
       "      <td>1610612743</td>\n",
       "      <td>1610612740</td>\n",
       "      <td>2020</td>\n",
       "      <td>1610612743</td>\n",
       "      <td>108.0</td>\n",
       "      <td>0.500</td>\n",
       "      <td>0.800</td>\n",
       "      <td>...</td>\n",
       "      <td>30.0</td>\n",
       "      <td>37.0</td>\n",
       "      <td>1610612740</td>\n",
       "      <td>113.0</td>\n",
       "      <td>0.482</td>\n",
       "      <td>0.767</td>\n",
       "      <td>0.286</td>\n",
       "      <td>26.0</td>\n",
       "      <td>45.0</td>\n",
       "      <td>0</td>\n",
       "    </tr>\n",
       "    <tr>\n",
       "      <th>3</th>\n",
       "      <td>3/21/2021</td>\n",
       "      <td>22000167</td>\n",
       "      <td>Final</td>\n",
       "      <td>1610612738</td>\n",
       "      <td>1610612753</td>\n",
       "      <td>2020</td>\n",
       "      <td>1610612738</td>\n",
       "      <td>112.0</td>\n",
       "      <td>0.455</td>\n",
       "      <td>1.000</td>\n",
       "      <td>...</td>\n",
       "      <td>27.0</td>\n",
       "      <td>45.0</td>\n",
       "      <td>1610612753</td>\n",
       "      <td>96.0</td>\n",
       "      <td>0.381</td>\n",
       "      <td>0.700</td>\n",
       "      <td>0.324</td>\n",
       "      <td>20.0</td>\n",
       "      <td>44.0</td>\n",
       "      <td>1</td>\n",
       "    </tr>\n",
       "    <tr>\n",
       "      <th>4</th>\n",
       "      <td>3/21/2021</td>\n",
       "      <td>22000647</td>\n",
       "      <td>Final</td>\n",
       "      <td>1610612751</td>\n",
       "      <td>1610612764</td>\n",
       "      <td>2020</td>\n",
       "      <td>1610612751</td>\n",
       "      <td>113.0</td>\n",
       "      <td>0.489</td>\n",
       "      <td>0.727</td>\n",
       "      <td>...</td>\n",
       "      <td>24.0</td>\n",
       "      <td>35.0</td>\n",
       "      <td>1610612764</td>\n",
       "      <td>106.0</td>\n",
       "      <td>0.532</td>\n",
       "      <td>0.789</td>\n",
       "      <td>0.333</td>\n",
       "      <td>24.0</td>\n",
       "      <td>43.0</td>\n",
       "      <td>1</td>\n",
       "    </tr>\n",
       "  </tbody>\n",
       "</table>\n",
       "<p>5 rows × 21 columns</p>\n",
       "</div>"
      ],
      "text/plain": [
       "  GAME_DATE_EST   GAME_ID GAME_STATUS_TEXT  HOME_TEAM_ID  VISITOR_TEAM_ID  \\\n",
       "0     3/21/2021  22000645            Final    1610612748       1610612754   \n",
       "1     3/21/2021  22000016            Final    1610612745       1610612760   \n",
       "2     3/21/2021  22000646            Final    1610612743       1610612740   \n",
       "3     3/21/2021  22000167            Final    1610612738       1610612753   \n",
       "4     3/21/2021  22000647            Final    1610612751       1610612764   \n",
       "\n",
       "   SEASON  TEAM_ID_home  PTS_home  FG_PCT_home  FT_PCT_home  ...  AST_home  \\\n",
       "0    2020    1610612748     106.0        0.402        0.826  ...      27.0   \n",
       "1    2020    1610612745     112.0        0.494        0.741  ...      22.0   \n",
       "2    2020    1610612743     108.0        0.500        0.800  ...      30.0   \n",
       "3    2020    1610612738     112.0        0.455        1.000  ...      27.0   \n",
       "4    2020    1610612751     113.0        0.489        0.727  ...      24.0   \n",
       "\n",
       "   REB_home  TEAM_ID_away  PTS_away  FG_PCT_away  FT_PCT_away  FG3_PCT_away  \\\n",
       "0      51.0    1610612754     109.0        0.388        0.900         0.333   \n",
       "1      38.0    1610612760     114.0        0.462        0.680         0.333   \n",
       "2      37.0    1610612740     113.0        0.482        0.767         0.286   \n",
       "3      45.0    1610612753      96.0        0.381        0.700         0.324   \n",
       "4      35.0    1610612764     106.0        0.532        0.789         0.333   \n",
       "\n",
       "   AST_away  REB_away  HOME_TEAM_WINS  \n",
       "0      27.0      50.0               0  \n",
       "1      22.0      52.0               0  \n",
       "2      26.0      45.0               0  \n",
       "3      20.0      44.0               1  \n",
       "4      24.0      43.0               1  \n",
       "\n",
       "[5 rows x 21 columns]"
      ]
     },
     "execution_count": 3,
     "metadata": {},
     "output_type": "execute_result"
    }
   ],
   "source": [
    "games.head()"
   ]
  },
  {
   "cell_type": "markdown",
   "id": "collect-orchestra",
   "metadata": {},
   "source": [
    "### Read games_formated.csv if it already exists"
   ]
  },
  {
   "cell_type": "code",
   "execution_count": 4,
   "id": "signed-craps",
   "metadata": {},
   "outputs": [],
   "source": [
    "games_formated = pd.read_csv(datapath + '/../generated_data/games_formated.csv')"
   ]
  },
  {
   "cell_type": "markdown",
   "id": "enhanced-sydney",
   "metadata": {},
   "source": [
    "### Extract pre-determined important feature columns\n",
    "\n",
    "This includes stats like a teams home and away win percentage in their previous games, their scoring efficacy (FG and 3-pt), as well as other team and individual stats"
   ]
  },
  {
   "cell_type": "code",
   "execution_count": 5,
   "id": "starting-methodology",
   "metadata": {},
   "outputs": [],
   "source": [
    "feat_cols = [\n",
    "    'G_home', 'W_PCT_home', 'HOME_RECORD_home',\n",
    "    'ROAD_RECORD_home', 'W_PCT_prev_home', 'HOME_RECORD_prev_home',\n",
    "    'ROAD_RECORD_prev_home', 'G_away', 'W_PCT_away', 'HOME_RECORD_away',\n",
    "    'ROAD_RECORD_away', 'W_PCT_prev_away', 'HOME_RECORD_prev_away',\n",
    "    'ROAD_RECORD_prev_away', 'WIN_PRCT_home_3g', 'PTS_home_3g',\n",
    "    'FG_PCT_home_3g', 'FT_PCT_home_3g', 'FG3_PCT_home_3g', 'AST_home_3g',\n",
    "    'REB_home_3g', 'WIN_PRCT_away_3g', 'PTS_away_3g', 'FG_PCT_away_3g',\n",
    "    'FT_PCT_away_3g', 'FG3_PCT_away_3g', 'AST_away_3g', 'REB_away_3g',\n",
    "    'WIN_PRCT_home_10g', 'PTS_home_10g', 'FG_PCT_home_10g',\n",
    "    'FT_PCT_home_10g', 'FG3_PCT_home_10g', 'AST_home_10g', 'REB_home_10g',\n",
    "    'WIN_PRCT_away_10g', 'PTS_away_10g', 'FG_PCT_away_10g',\n",
    "    'FT_PCT_away_10g', 'FG3_PCT_away_10g', 'AST_away_10g', 'REB_away_10g'\n",
    "]\n",
    "target = 'HOME_TEAM_WINS'"
   ]
  },
  {
   "cell_type": "markdown",
   "id": "relevant-ridge",
   "metadata": {},
   "source": [
    "### Plot correlation matrix of feature columns"
   ]
  },
  {
   "cell_type": "code",
   "execution_count": 6,
   "id": "characteristic-state",
   "metadata": {},
   "outputs": [],
   "source": [
    "corr = games_formated[feat_cols + [target]].corr()"
   ]
  },
  {
   "cell_type": "code",
   "execution_count": 7,
   "id": "proper-insulation",
   "metadata": {},
   "outputs": [
    {
     "data": {
      "image/png": "[encoded data removed]",
      "text/plain": [
       "<Figure size 792x648 with 2 Axes>"
      ]
     },
     "metadata": {
      "needs_background": "light"
     },
     "output_type": "display_data"
    }
   ],
   "source": [
    "fig, ax = plt.subplots(figsize=(11, 9))\n",
    "\n",
    "# Generate a custom diverging colormap\n",
    "cmap = sns.diverging_palette(230, 20, as_cmap=True)\n",
    "\n",
    "# Draw the heatmap with the mask and correct aspect ratio\n",
    "sns.heatmap(corr, vmax=1, center=0, vmin=-1, cmap=cmap,\n",
    "            square=True, linewidths=.5, cbar_kws={\"shrink\": .5})\n",
    "\n",
    "plt.show()"
   ]
  },
  {
   "cell_type": "markdown",
   "id": "spare-lesson",
   "metadata": {},
   "source": [
    "### Find the 15 most important features that determine HOME_TEAM_WIN"
   ]
  },
  {
   "cell_type": "code",
   "execution_count": 8,
   "id": "norwegian-rescue",
   "metadata": {},
   "outputs": [
    {
     "name": "stdout",
     "output_type": "stream",
     "text": [
      "['WIN_PRCT_home_10g', 'ROAD_RECORD_home', 'WIN_PRCT_home_3g', 'HOME_RECORD_prev_home', 'FG_PCT_home_10g', 'W_PCT_prev_home', 'W_PCT_home', 'FG_PCT_home_3g', 'FG3_PCT_home_10g', 'REB_home_3g', 'G_away', 'ROAD_RECORD_prev_home', 'REB_home_10g', 'PTS_home_10g']\n"
     ]
    }
   ],
   "source": [
    "feat_cols = corr.nlargest(15, target)[target].index\n",
    "feat_cols = [c for c in feat_cols if c != target]\n",
    "print(feat_cols)\n",
    "\n",
    "games_formated['GAME_DATE_EST'] = pd.to_datetime(games_formated['GAME_DATE_EST'])"
   ]
  },
  {
   "cell_type": "markdown",
   "id": "professional-dynamics",
   "metadata": {},
   "source": [
    "### Extract training set (games before 2020 bubble) and test set (2020 bubble games)"
   ]
  },
  {
   "cell_type": "code",
   "execution_count": 9,
   "id": "violent-reflection",
   "metadata": {},
   "outputs": [],
   "source": [
    "training_games = games_formated[games_formated['GAME_DATE_EST'] < '7/22/2020'].sort_values(by='GAME_DATE_EST')\n",
    "# drop games before 2007 to avoid NaN's in some feature columns\n",
    "training_games = training_games[training_games['SEASON'] >= 2007].reset_index(drop=True)"
   ]
  },
  {
   "cell_type": "code",
   "execution_count": 10,
   "id": "disciplinary-silly",
   "metadata": {},
   "outputs": [],
   "source": [
    "games_2020 = games_formated[(games_formated['GAME_DATE_EST'] >= '7/22/2020')].sort_values(by='GAME_DATE_EST')\n",
    "games_2020 = games_2020[games_2020['SEASON'] == 2019].reset_index()"
   ]
  },
  {
   "cell_type": "code",
   "execution_count": 11,
   "id": "suspended-portsmouth",
   "metadata": {},
   "outputs": [
    {
     "data": {
      "text/plain": [
       "1    0.61109\n",
       "0    0.38891\n",
       "Name: HOME_TEAM_WINS, dtype: float64"
      ]
     },
     "execution_count": 11,
     "metadata": {},
     "output_type": "execute_result"
    }
   ],
   "source": [
    "training_games['HOME_TEAM_WINS'].value_counts(normalize=True)"
   ]
  },
  {
   "cell_type": "code",
   "execution_count": 12,
   "id": "unique-midnight",
   "metadata": {},
   "outputs": [
    {
     "data": {
      "text/plain": [
       "1    0.515\n",
       "0    0.485\n",
       "Name: HOME_TEAM_WINS, dtype: float64"
      ]
     },
     "execution_count": 12,
     "metadata": {},
     "output_type": "execute_result"
    }
   ],
   "source": [
    "games_2020['HOME_TEAM_WINS'].value_counts(normalize=True)"
   ]
  },
  {
   "cell_type": "markdown",
   "id": "invisible-repository",
   "metadata": {},
   "source": [
    "### Create training and test X and y sets"
   ]
  },
  {
   "cell_type": "code",
   "execution_count": 13,
   "id": "automotive-fancy",
   "metadata": {},
   "outputs": [],
   "source": [
    "X_train, y_train = training_games[feat_cols], training_games[target]\n",
    "\n",
    "X_test, y_test = games_2020[feat_cols], games_2020[target]"
   ]
  },
  {
   "cell_type": "markdown",
   "id": "deluxe-rover",
   "metadata": {},
   "source": [
    "### Train and Evaluate 3 different classifiers to predict 2020 NBA Bubble games"
   ]
  },
  {
   "cell_type": "markdown",
   "id": "catholic-collaboration",
   "metadata": {},
   "source": [
    "#### 1. Random Forest Classifier"
   ]
  },
  {
   "cell_type": "code",
   "execution_count": 14,
   "id": "inner-footwear",
   "metadata": {},
   "outputs": [
    {
     "data": {
      "text/plain": [
       "RandomForestClassifier(bootstrap=True, ccp_alpha=0.0, class_weight=None,\n",
       "                       criterion='gini', max_depth=19, max_features='auto',\n",
       "                       max_leaf_nodes=None, max_samples=None,\n",
       "                       min_impurity_decrease=0.0, min_impurity_split=None,\n",
       "                       min_samples_leaf=1, min_samples_split=2,\n",
       "                       min_weight_fraction_leaf=0.0, n_estimators=100, n_jobs=2,\n",
       "                       oob_score=False, random_state=42, verbose=0,\n",
       "                       warm_start=False)"
      ]
     },
     "execution_count": 14,
     "metadata": {},
     "output_type": "execute_result"
    }
   ],
   "source": [
    "rfc = RandomForestClassifier(random_state=42, n_jobs=2, n_estimators=100, max_depth=19, bootstrap=True)\n",
    "rfc.fit(X_train, y_train)"
   ]
  },
  {
   "cell_type": "code",
   "execution_count": 15,
   "id": "spare-bermuda",
   "metadata": {},
   "outputs": [
    {
     "name": "stdout",
     "output_type": "stream",
     "text": [
      "Train accuracy: 0.9984962406015038\n",
      "Test accuracy: 0.545\n"
     ]
    }
   ],
   "source": [
    "print('Train accuracy:', rfc.score(X_train, y_train))\n",
    "print('Test accuracy:', rfc.score(X_test, y_test))"
   ]
  },
  {
   "cell_type": "code",
   "execution_count": 16,
   "id": "herbal-bulgaria",
   "metadata": {},
   "outputs": [
    {
     "data": {
      "text/plain": [
       "1    0.79\n",
       "0    0.21\n",
       "Name: RF_PREDICTION, dtype: float64"
      ]
     },
     "execution_count": 16,
     "metadata": {},
     "output_type": "execute_result"
    }
   ],
   "source": [
    "predictions = rfc.predict(X_test)\n",
    "games_2020['RF_PREDICTION'] = rfc.predict(X_test)\n",
    "\n",
    "games_2020['RF_PREDICTION'].value_counts(normalize=True)"
   ]
  },
  {
   "cell_type": "markdown",
   "id": "express-mortality",
   "metadata": {},
   "source": [
    "#### 2. Logistic Regression Classifier"
   ]
  },
  {
   "cell_type": "code",
   "execution_count": 17,
   "id": "aquatic-energy",
   "metadata": {},
   "outputs": [
    {
     "data": {
      "text/plain": [
       "LogisticRegression(C=0.01, class_weight='balanced', dual=False,\n",
       "                   fit_intercept=True, intercept_scaling=1, l1_ratio=None,\n",
       "                   max_iter=200, multi_class='auto', n_jobs=None, penalty='l2',\n",
       "                   random_state=42, solver='lbfgs', tol=0.0001, verbose=0,\n",
       "                   warm_start=False)"
      ]
     },
     "execution_count": 17,
     "metadata": {},
     "output_type": "execute_result"
    }
   ],
   "source": [
    "lr = LogisticRegression(random_state=42, C=0.01, max_iter=200, class_weight = 'balanced')\n",
    "lr.fit(X_train, y_train)"
   ]
  },
  {
   "cell_type": "code",
   "execution_count": 18,
   "id": "desirable-project",
   "metadata": {},
   "outputs": [
    {
     "name": "stdout",
     "output_type": "stream",
     "text": [
      "Train accuracy: 0.5343984962406015\n",
      "Test accuracy: 0.5\n"
     ]
    }
   ],
   "source": [
    "print('Train accuracy:', lr.score(X_train, y_train))\n",
    "print('Test accuracy:', lr.score(X_test, y_test))"
   ]
  },
  {
   "cell_type": "code",
   "execution_count": 19,
   "id": "deadly-living",
   "metadata": {},
   "outputs": [
    {
     "data": {
      "text/plain": [
       "1    0.615\n",
       "0    0.385\n",
       "Name: LR_PREDICTION, dtype: float64"
      ]
     },
     "execution_count": 19,
     "metadata": {},
     "output_type": "execute_result"
    }
   ],
   "source": [
    "lr_predictions = lr.predict(X_test)\n",
    "games_2020['LR_PREDICTION'] = lr.predict(X_test)\n",
    "\n",
    "games_2020['LR_PREDICTION'].value_counts(normalize=True)"
   ]
  },
  {
   "cell_type": "markdown",
   "id": "narrative-longitude",
   "metadata": {},
   "source": [
    "#### 3. Decision Tree Classifier"
   ]
  },
  {
   "cell_type": "code",
   "execution_count": 20,
   "id": "vulnerable-compression",
   "metadata": {},
   "outputs": [
    {
     "data": {
      "text/plain": [
       "DecisionTreeClassifier(ccp_alpha=0.0, class_weight=None, criterion='gini',\n",
       "                       max_depth=25, max_features=None, max_leaf_nodes=None,\n",
       "                       min_impurity_decrease=0.0, min_impurity_split=None,\n",
       "                       min_samples_leaf=1, min_samples_split=2,\n",
       "                       min_weight_fraction_leaf=0.0, presort='deprecated',\n",
       "                       random_state=None, splitter='best')"
      ]
     },
     "execution_count": 20,
     "metadata": {},
     "output_type": "execute_result"
    }
   ],
   "source": [
    "dt = DecisionTreeClassifier(criterion=\"gini\", max_depth=25)\n",
    "dt.fit(X_train, y_train)"
   ]
  },
  {
   "cell_type": "code",
   "execution_count": 21,
   "id": "existing-assumption",
   "metadata": {},
   "outputs": [
    {
     "name": "stdout",
     "output_type": "stream",
     "text": [
      "Train accuracy: 0.9552631578947368\n",
      "Test accuracy: 0.54\n"
     ]
    }
   ],
   "source": [
    "print('Train accuracy:', dt.score(X_train, y_train))\n",
    "print('Test accuracy:', dt.score(X_test, y_test))"
   ]
  },
  {
   "cell_type": "code",
   "execution_count": 22,
   "id": "cultural-agreement",
   "metadata": {},
   "outputs": [
    {
     "data": {
      "text/plain": [
       "1    0.655\n",
       "0    0.345\n",
       "Name: DT_PREDICTION, dtype: float64"
      ]
     },
     "execution_count": 22,
     "metadata": {},
     "output_type": "execute_result"
    }
   ],
   "source": [
    "dtree_predictions = dt.predict(X_test)\n",
    "games_2020['DT_PREDICTION'] = dt.predict(X_test)\n",
    "\n",
    "games_2020['DT_PREDICTION'].value_counts(normalize=True)"
   ]
  },
  {
   "cell_type": "markdown",
   "id": "difficult-pixel",
   "metadata": {},
   "source": [
    "### Format predictions and write output to csv for visualization"
   ]
  },
  {
   "cell_type": "markdown",
   "id": "driving-payment",
   "metadata": {},
   "source": [
    "#### Adding full team names and logos to output"
   ]
  },
  {
   "cell_type": "code",
   "execution_count": 26,
   "id": "lonely-control",
   "metadata": {},
   "outputs": [],
   "source": [
    "team_names = teams[['TEAM_ID', 'CITY', 'NICKNAME', 'TEAM_LOGO_URL']]\n",
    "home_names = team_names.copy() # copy the names data\n",
    "home_names['HOME_TEAM_ID'] = home_names['TEAM_ID'] # change the column names before merging\n",
    "home_names['HOME_NAME'] = home_names['CITY'] + ' ' + home_names['NICKNAME']\n",
    "home_names['HOME_LOGO'] = home_names['TEAM_LOGO_URL']\n",
    "# merge names according to df on \"ID\"\n",
    "result_1 = pd.merge(games['HOME_TEAM_ID'], home_names, how='left', on=\"HOME_TEAM_ID\")\n",
    "games['HOME_TEAM_NAME'] = result_1['HOME_NAME']\n",
    "games['HOME_TEAM_LOGO'] = result_1['HOME_LOGO']\n",
    "\n",
    "visitor_names = team_names.copy() # copy the names data\n",
    "visitor_names['VISITOR_TEAM_ID'] = visitor_names['TEAM_ID'] # change the column names before merging\n",
    "visitor_names['AWAY_NAME'] = visitor_names['CITY'] + ' ' + visitor_names['NICKNAME']\n",
    "visitor_names['VISITOR_LOGO'] = visitor_names['TEAM_LOGO_URL']\n",
    "# merge names according to df on \"ID\"\n",
    "result_2 = pd.merge(games['VISITOR_TEAM_ID'], visitor_names, how = \"left\", on=\"VISITOR_TEAM_ID\")\n",
    "games['VISITOR_TEAM_NAME'] = result_2['AWAY_NAME']\n",
    "games['VISITOR_TEAM_LOGO'] = result_2['VISITOR_LOGO']"
   ]
  },
  {
   "cell_type": "markdown",
   "id": "according-mambo",
   "metadata": {},
   "source": [
    "#### Format final output"
   ]
  },
  {
   "cell_type": "code",
   "execution_count": 27,
   "id": "nervous-neighbor",
   "metadata": {},
   "outputs": [
    {
     "data": {
      "text/html": [
       "<div>\n",
       "<style scoped>\n",
       "    .dataframe tbody tr th:only-of-type {\n",
       "        vertical-align: middle;\n",
       "    }\n",
       "\n",
       "    .dataframe tbody tr th {\n",
       "        vertical-align: top;\n",
       "    }\n",
       "\n",
       "    .dataframe thead th {\n",
       "        text-align: right;\n",
       "    }\n",
       "</style>\n",
       "<table border=\"1\" class=\"dataframe\">\n",
       "  <thead>\n",
       "    <tr style=\"text-align: right;\">\n",
       "      <th></th>\n",
       "      <th>GAME_ID</th>\n",
       "      <th>GAME_DATE_EST_1</th>\n",
       "      <th>HOME_TEAM_NAME</th>\n",
       "      <th>VISITOR_TEAM_NAME</th>\n",
       "      <th>PTS_home</th>\n",
       "      <th>PTS_away</th>\n",
       "      <th>HOME_TEAM_WINS_1</th>\n",
       "      <th>RF_PREDICTION</th>\n",
       "      <th>LR_PREDICTION</th>\n",
       "      <th>DT_PREDICTION</th>\n",
       "      <th>HOME_TEAM_LOGO</th>\n",
       "      <th>VISITOR_TEAM_LOGO</th>\n",
       "    </tr>\n",
       "  </thead>\n",
       "  <tbody>\n",
       "    <tr>\n",
       "      <th>0</th>\n",
       "      <td>11900101</td>\n",
       "      <td>2020-07-22</td>\n",
       "      <td>Los Angeles Clippers</td>\n",
       "      <td>Orlando Magic</td>\n",
       "      <td>99.0</td>\n",
       "      <td>90.0</td>\n",
       "      <td>1</td>\n",
       "      <td>0</td>\n",
       "      <td>0</td>\n",
       "      <td>0</td>\n",
       "      <td>https://content.sportslogos.net/logos/6/236/fu...</td>\n",
       "      <td>https://content.sportslogos.net/logos/6/217/fu...</td>\n",
       "    </tr>\n",
       "    <tr>\n",
       "      <th>1</th>\n",
       "      <td>11900102</td>\n",
       "      <td>2020-07-22</td>\n",
       "      <td>Denver Nuggets</td>\n",
       "      <td>Washington Wizards</td>\n",
       "      <td>89.0</td>\n",
       "      <td>82.0</td>\n",
       "      <td>1</td>\n",
       "      <td>1</td>\n",
       "      <td>1</td>\n",
       "      <td>1</td>\n",
       "      <td>https://content.sportslogos.net/logos/6/229/fu...</td>\n",
       "      <td>https://content.sportslogos.net/logos/6/219/fu...</td>\n",
       "    </tr>\n",
       "    <tr>\n",
       "      <th>2</th>\n",
       "      <td>11900103</td>\n",
       "      <td>2020-07-22</td>\n",
       "      <td>Brooklyn Nets</td>\n",
       "      <td>New Orleans Pelicans</td>\n",
       "      <td>68.0</td>\n",
       "      <td>99.0</td>\n",
       "      <td>0</td>\n",
       "      <td>0</td>\n",
       "      <td>1</td>\n",
       "      <td>1</td>\n",
       "      <td>https://content.sportslogos.net/logos/6/3786/f...</td>\n",
       "      <td>https://content.sportslogos.net/logos/6/4962/f...</td>\n",
       "    </tr>\n",
       "    <tr>\n",
       "      <th>3</th>\n",
       "      <td>11900104</td>\n",
       "      <td>2020-07-22</td>\n",
       "      <td>Miami Heat</td>\n",
       "      <td>Sacramento Kings</td>\n",
       "      <td>104.0</td>\n",
       "      <td>98.0</td>\n",
       "      <td>1</td>\n",
       "      <td>1</td>\n",
       "      <td>1</td>\n",
       "      <td>0</td>\n",
       "      <td>https://content.sportslogos.net/logos/6/214/fu...</td>\n",
       "      <td>https://content.sportslogos.net/logos/6/240/fu...</td>\n",
       "    </tr>\n",
       "    <tr>\n",
       "      <th>4</th>\n",
       "      <td>11900105</td>\n",
       "      <td>2020-07-23</td>\n",
       "      <td>Milwaukee Bucks</td>\n",
       "      <td>San Antonio Spurs</td>\n",
       "      <td>113.0</td>\n",
       "      <td>92.0</td>\n",
       "      <td>1</td>\n",
       "      <td>1</td>\n",
       "      <td>1</td>\n",
       "      <td>1</td>\n",
       "      <td>https://content.sportslogos.net/logos/6/225/fu...</td>\n",
       "      <td>https://content.sportslogos.net/logos/6/233/fu...</td>\n",
       "    </tr>\n",
       "  </tbody>\n",
       "</table>\n",
       "</div>"
      ],
      "text/plain": [
       "    GAME_ID GAME_DATE_EST_1        HOME_TEAM_NAME     VISITOR_TEAM_NAME  \\\n",
       "0  11900101      2020-07-22  Los Angeles Clippers         Orlando Magic   \n",
       "1  11900102      2020-07-22        Denver Nuggets    Washington Wizards   \n",
       "2  11900103      2020-07-22         Brooklyn Nets  New Orleans Pelicans   \n",
       "3  11900104      2020-07-22            Miami Heat      Sacramento Kings   \n",
       "4  11900105      2020-07-23       Milwaukee Bucks     San Antonio Spurs   \n",
       "\n",
       "   PTS_home  PTS_away  HOME_TEAM_WINS_1  RF_PREDICTION  LR_PREDICTION  \\\n",
       "0      99.0      90.0                 1              0              0   \n",
       "1      89.0      82.0                 1              1              1   \n",
       "2      68.0      99.0                 0              0              1   \n",
       "3     104.0      98.0                 1              1              1   \n",
       "4     113.0      92.0                 1              1              1   \n",
       "\n",
       "   DT_PREDICTION                                     HOME_TEAM_LOGO  \\\n",
       "0              0  https://content.sportslogos.net/logos/6/236/fu...   \n",
       "1              1  https://content.sportslogos.net/logos/6/229/fu...   \n",
       "2              1  https://content.sportslogos.net/logos/6/3786/f...   \n",
       "3              0  https://content.sportslogos.net/logos/6/214/fu...   \n",
       "4              1  https://content.sportslogos.net/logos/6/225/fu...   \n",
       "\n",
       "                                   VISITOR_TEAM_LOGO  \n",
       "0  https://content.sportslogos.net/logos/6/217/fu...  \n",
       "1  https://content.sportslogos.net/logos/6/219/fu...  \n",
       "2  https://content.sportslogos.net/logos/6/4962/f...  \n",
       "3  https://content.sportslogos.net/logos/6/240/fu...  \n",
       "4  https://content.sportslogos.net/logos/6/233/fu...  "
      ]
     },
     "execution_count": 27,
     "metadata": {},
     "output_type": "execute_result"
    }
   ],
   "source": [
    "temp = games_2020[['GAME_ID', 'GAME_DATE_EST', 'HOME_TEAM_WINS', 'RF_PREDICTION', 'LR_PREDICTION', 'DT_PREDICTION']]\n",
    "g2020 = temp.set_index('GAME_ID').join(games.set_index('GAME_ID'), lsuffix='_1', rsuffix='_r')\n",
    "\n",
    "final = g2020[['GAME_DATE_EST_1', 'HOME_TEAM_NAME', 'VISITOR_TEAM_NAME', 'PTS_home', 'PTS_away', 'HOME_TEAM_WINS_1', 'RF_PREDICTION', 'LR_PREDICTION', 'DT_PREDICTION', 'HOME_TEAM_LOGO', 'VISITOR_TEAM_LOGO']]\n",
    "final.rename(columns={\"GAME_DATE_EST_1\": \"GAME_DATE_EST\", \"HOME_TEAM_WINS_1\": \"ACTUAL_RESULT\"})\n",
    "final = final.reset_index()\n",
    "final.head()"
   ]
  },
  {
   "cell_type": "code",
   "execution_count": 28,
   "id": "dental-dietary",
   "metadata": {},
   "outputs": [],
   "source": [
    "final.to_csv('generated_data/model_predictions.csv', index=False)"
   ]
  }
 ],
 "metadata": {
  "kernelspec": {
   "display_name": "Python 3",
   "language": "python",
   "name": "python3"
  },
  "language_info": {
   "codemirror_mode": {
    "name": "ipython",
    "version": 3
   },
   "file_extension": ".py",
   "mimetype": "text/x-python",
   "name": "python",
   "nbconvert_exporter": "python",
   "pygments_lexer": "ipython3",
   "version": "3.7.4"
  }
 },
 "nbformat": 4,
 "nbformat_minor": 5
}
