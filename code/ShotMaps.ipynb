{
 "cells": [
  {
   "cell_type": "code",
   "execution_count": 3,
   "metadata": {},
   "outputs": [],
   "source": [
    "import json\n",
    "from nba_api.stats.endpoints import shotchartdetail\n",
    "\n",
    "response = shotchartdetail.ShotChartDetail(\n",
    "    team_id=1610612756, #phoenix suns\n",
    "    player_id=0, #all players\n",
    "    context_measure_simple='FGA',\n",
    "    season_nullable='2019-20',\n",
    "    season_type_all_star='Regular Season'\n",
    ")\n",
    "\n",
    "content = json.loads(response.get_json())"
   ]
  },
  {
   "cell_type": "code",
   "execution_count": 4,
   "metadata": {},
   "outputs": [],
   "source": [
    "import pandas as pd\n",
    "\n",
    "# transform contents into dataframe\n",
    "results = content['resultSets'][0]\n",
    "headers = results['headers']\n",
    "rows = results['rowSet']\n",
    "df = pd.DataFrame(rows)\n",
    "df.columns = headers\n",
    "\n",
    "# write to csv file\n",
    "df.to_csv('suns.csv', index=False)"
   ]
  },
  {
   "cell_type": "code",
   "execution_count": 5,
   "metadata": {},
   "outputs": [],
   "source": [
    "iter_csv = pd.read_csv('suns.csv', iterator=True)\n",
    "df = pd.concat([chunk[chunk['GAME_DATE'] < 20200731] for chunk in iter_csv])\n",
    "df.to_csv('suns_before_bubble.csv', index=False)"
   ]
  },
  {
   "cell_type": "code",
   "execution_count": 6,
   "metadata": {},
   "outputs": [],
   "source": [
    "iter_csv = pd.read_csv('suns.csv', iterator=True)\n",
    "df2 = pd.concat([chunk[chunk['GAME_DATE'] >= 20200731] for chunk in iter_csv])\n",
    "df2.to_csv(\"suns_in_bubble.csv\", index=False)"
   ]
  },
  {
   "cell_type": "markdown",
   "metadata": {},
   "source": [
    "## Comparing the Phoenix Suns Before and During the NBA Bubble\n",
    "\n",
    "Suns Non-Bubble Accuracy vs Suns in Bubble Accuracy:\n",
    "\n",
    "<img src=\"./suns_accuracy_non_bubble.png\" width=\"200\">\n",
    "<img src=\"./suns_accuracy_bubble.png\" width=\"200\">\n",
    "\n",
    "Suns Non-Bubble All Hits/Misses vs Suns in Bubble All Hits/Misses:\n",
    "\n",
    "<img src=\"./suns_hit_miss_non_bubble.png\" width=\"200\">\n",
    "<img src=\"./suns_hit_miss_bubble.png\" width=\"200\">"
   ]
  },
  {
   "cell_type": "code",
   "execution_count": null,
   "metadata": {},
   "outputs": [],
   "source": []
  }
 ],
 "metadata": {
  "kernelspec": {
   "display_name": "Python 3",
   "language": "python",
   "name": "python3"
  }
 },
 "nbformat": 4,
 "nbformat_minor": 2
}
